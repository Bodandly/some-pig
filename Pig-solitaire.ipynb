{
 "metadata": {
  "name": "",
  "signature": "sha256:1daa87d018f64b54203562039f4accdf48e3fe08d2e81bd647b04304f195cde8"
 },
 "nbformat": 3,
 "nbformat_minor": 0,
 "worksheets": [
  {
   "cells": [
    {
     "cell_type": "code",
     "collapsed": false,
     "input": [
      "import random\n",
      "import math\n",
      "import matplotlib.pyplot as plt\n",
      "import seaborn as sns\n",
      "import statistics as st"
     ],
     "language": "python",
     "metadata": {},
     "outputs": [],
     "prompt_number": 7
    },
    {
     "cell_type": "code",
     "collapsed": false,
     "input": [
      "%matplotlib inline"
     ],
     "language": "python",
     "metadata": {},
     "outputs": [],
     "prompt_number": 8
    },
    {
     "cell_type": "code",
     "collapsed": false,
     "input": [
      "sns.set_style(\"whitegrid\")"
     ],
     "language": "python",
     "metadata": {},
     "outputs": [],
     "prompt_number": 9
    },
    {
     "cell_type": "heading",
     "level": 1,
     "metadata": {},
     "source": [
      "Player Class"
     ]
    },
    {
     "cell_type": "code",
     "collapsed": false,
     "input": [
      "class Player:\n",
      "    \"\"\"\n",
      "    Duties:\n",
      "    Can roll a die, and it can stand. \n",
      "    It has a logic behind how it will stand.\n",
      "    \n",
      "    Works with, Game class.\n",
      "    \"\"\"\n",
      "    def __init__(self, hold_value=6):\n",
      "        self.hold_value = hold_value\n",
      "    \n",
      "    \n",
      "    def roll(self):\n",
      "        return random.randint(1,6)\n",
      "\n",
      "    \n",
      "    def hold(self, rolls, choice=False):\n",
      "        if sum(rolls) > self.hold_value:\n",
      "            choice = True\n",
      "        return choice  "
     ],
     "language": "python",
     "metadata": {},
     "outputs": [],
     "prompt_number": 10
    },
    {
     "cell_type": "markdown",
     "metadata": {},
     "source": [
      "Player class controls rolling, and the decision on to hold or not."
     ]
    },
    {
     "cell_type": "heading",
     "level": 3,
     "metadata": {},
     "source": [
      "Player subclasses with different strategies."
     ]
    },
    {
     "cell_type": "code",
     "collapsed": false,
     "input": [
      "class PlayerValueFifteen(Player):\n",
      "    def __init__(self):\n",
      "        self.hold_value = 15"
     ],
     "language": "python",
     "metadata": {},
     "outputs": [],
     "prompt_number": 11
    },
    {
     "cell_type": "markdown",
     "metadata": {},
     "source": [
      "Player does not hold until his score is at least 15."
     ]
    },
    {
     "cell_type": "code",
     "collapsed": false,
     "input": [
      "class PlayerValueTwenty(Player):\n",
      "    def __init__(self):\n",
      "        self.hold_value = 20"
     ],
     "language": "python",
     "metadata": {},
     "outputs": [],
     "prompt_number": 12
    },
    {
     "cell_type": "markdown",
     "metadata": {},
     "source": [
      "Player does not hold until his score is at least 20."
     ]
    },
    {
     "cell_type": "code",
     "collapsed": false,
     "input": [
      "class PlayerValueTwentyFive(Player):\n",
      "    def __init__(self):\n",
      "        self.hold_value = 25"
     ],
     "language": "python",
     "metadata": {},
     "outputs": [],
     "prompt_number": 13
    },
    {
     "cell_type": "markdown",
     "metadata": {},
     "source": [
      "Player does not hold until his score is at least 25."
     ]
    },
    {
     "cell_type": "code",
     "collapsed": false,
     "input": [
      "class PlayerRollOne(Player):\n",
      "    \n",
      "    def __init__(self):\n",
      "        self.hold_value = 1\n",
      "    \n",
      "    def hold(self, rolls, choice=False):\n",
      "        if len(rolls) >= self.hold_value:\n",
      "            choice = True\n",
      "        return choice"
     ],
     "language": "python",
     "metadata": {},
     "outputs": [],
     "prompt_number": 14
    },
    {
     "cell_type": "markdown",
     "metadata": {},
     "source": [
      "Player only rolls one die each turn, then holds."
     ]
    },
    {
     "cell_type": "code",
     "collapsed": false,
     "input": [
      "class PlayerRollTwo(PlayerRollOne):\n",
      "    def __init__(self):\n",
      "        self.hold_value = 2 "
     ],
     "language": "python",
     "metadata": {},
     "outputs": [],
     "prompt_number": 15
    },
    {
     "cell_type": "markdown",
     "metadata": {},
     "source": [
      "Player only rolls two dice each turn, then holds."
     ]
    },
    {
     "cell_type": "code",
     "collapsed": false,
     "input": [
      "class Gordon(PlayerRollOne):\n",
      "    def __init__(self):\n",
      "        self.hold_value = random.randint(1,10)"
     ],
     "language": "python",
     "metadata": {},
     "outputs": [],
     "prompt_number": 16
    },
    {
     "cell_type": "markdown",
     "metadata": {},
     "source": [
      "To be determined."
     ]
    },
    {
     "cell_type": "heading",
     "level": 1,
     "metadata": {},
     "source": [
      "Game Class"
     ]
    },
    {
     "cell_type": "code",
     "collapsed": false,
     "input": [
      "class Game:\n",
      "    \"\"\"\n",
      "    Duties:\n",
      "    Will run a game and turns of the game.\n",
      "    \n",
      "    works with player.\n",
      "    \"\"\"\n",
      "    def __init__(self, player):\n",
      "        self.player = player\n",
      "        self.total_score = 0\n",
      "    \n",
      "    def game(self):\n",
      "        turn_scores = []\n",
      "        while len(turn_scores) < 8:\n",
      "            turn_scores.append(self.turn())\n",
      "        return sum(turn_scores)\n",
      "            \n",
      "    def turn(self):\n",
      "        current_score = 0\n",
      "        rolls = []\n",
      "        while not self.player.hold(rolls):\n",
      "            turn_roll = self.player.roll()\n",
      "            if turn_roll == 1:\n",
      "                return 0\n",
      "            current_score += turn_roll\n",
      "            rolls.append(turn_roll)\n",
      "        return current_score"
     ],
     "language": "python",
     "metadata": {},
     "outputs": [],
     "prompt_number": 17
    },
    {
     "cell_type": "markdown",
     "metadata": {},
     "source": [
      "Game class controls all parts of the game. The game itself, and each turn."
     ]
    },
    {
     "cell_type": "heading",
     "level": 5,
     "metadata": {},
     "source": [
      "Different Games"
     ]
    },
    {
     "cell_type": "code",
     "collapsed": false,
     "input": [
      "pig_game_six_value = Game(Player())\n",
      "pig_game_fifteen_value = Game(PlayerValueFifteen())\n",
      "pig_game_one_die = Game(PlayerRollOne())\n",
      "pig_game_two_die = Game(PlayerRollTwo())\n",
      "pig_game_twenty_value = Game(PlayerValueTwenty())\n",
      "pig_game_twenty_five_value = Game(PlayerValueTwentyFive())\n",
      "pig_game_twenty_one_value = Game(Player(21))\n",
      "pig_game_twenty_two_value = Game(Player(22))\n",
      "pig_game_twenty_three_value = Game(Player(23))"
     ],
     "language": "python",
     "metadata": {},
     "outputs": [],
     "prompt_number": 18
    },
    {
     "cell_type": "heading",
     "level": 5,
     "metadata": {},
     "source": [
      "Functions that create the mean of any number of games, and one that creates a list of the results from any number of games."
     ]
    },
    {
     "cell_type": "code",
     "collapsed": false,
     "input": [
      "def many_games(game, number_of_games):\n",
      "    game_results = []\n",
      "    while len(game_results) <= number_of_games:\n",
      "        result = game.game()\n",
      "        game_results.append(result)\n",
      "    return st.mean(game_results), st.pstdev(game_results)"
     ],
     "language": "python",
     "metadata": {},
     "outputs": [],
     "prompt_number": 19
    },
    {
     "cell_type": "code",
     "collapsed": false,
     "input": [
      "def many_games_list(game, number_of_games):\n",
      "    game_results = []\n",
      "    while len(game_results) <= number_of_games:\n",
      "        result = game.game()\n",
      "        game_results.append(result)\n",
      "    return game_results"
     ],
     "language": "python",
     "metadata": {},
     "outputs": [],
     "prompt_number": 20
    },
    {
     "cell_type": "heading",
     "level": 5,
     "metadata": {},
     "source": [
      "Functions used to get all the number out a list of lists and return the mean of all of them, or a list of each mean from list."
     ]
    },
    {
     "cell_type": "code",
     "collapsed": false,
     "input": [
      "def get_trials_mean(trials):\n",
      "    list_of_means = []\n",
      "    for trial in trials:\n",
      "        list_of_means.append(trial[0])\n",
      "    return st.mean(list_of_means)\n",
      "\n",
      "def get_trials_list_of_mean(trials):\n",
      "    list_of_means = []\n",
      "    for trial in trials:\n",
      "        list_of_means.append(trial[0])\n",
      "    return list_of_means\n",
      "\n",
      "def get_trials_average_stdev(trials):\n",
      "    list_of_stdevs = []\n",
      "    for trial in trials:\n",
      "        list_of_stdevs.append(trial[1])\n",
      "    return st.mean(list_of_stdevs)    \n",
      "\n",
      "def get_trials_average_stdev_list(trials):\n",
      "    list_of_stdevs = []\n",
      "    for trial in trials:\n",
      "        list_of_stdevs.append(trial[1])\n",
      "    return list_of_stdevs    "
     ],
     "language": "python",
     "metadata": {},
     "outputs": [],
     "prompt_number": 21
    },
    {
     "cell_type": "code",
     "collapsed": false,
     "input": [
      "def many_trials_of_games_list(game, number_of_trials, number_of_games):\n",
      "    trials_results = []\n",
      "    while len(trials_results) < number_of_trials:\n",
      "        trials_results.append(many_games(game, number_of_games))\n",
      "    return get_trials_list_of_mean(trials_results)"
     ],
     "language": "python",
     "metadata": {},
     "outputs": [],
     "prompt_number": 22
    },
    {
     "cell_type": "code",
     "collapsed": false,
     "input": [
      "def many_trials_of_games_list_stdev(game, number_of_trials, number_of_games):\n",
      "    trials_results = []\n",
      "    while len(trials_results) < number_of_trials:\n",
      "        trials_results.append(many_games(game, number_of_games))\n",
      "    return get_trials_average_stdev_list(trials_results)"
     ],
     "language": "python",
     "metadata": {},
     "outputs": [],
     "prompt_number": 23
    },
    {
     "cell_type": "code",
     "collapsed": false,
     "input": [
      "def many_trials_of_games(game, number_of_trials, number_of_games):\n",
      "    trials_results = []\n",
      "    while len(trials_results) < number_of_trials:\n",
      "        trials_results.append(many_games(game, number_of_games))\n",
      "    return get_trials_mean(trials_results), get_trials_average_stdev(trials_results)"
     ],
     "language": "python",
     "metadata": {},
     "outputs": [],
     "prompt_number": 24
    },
    {
     "cell_type": "heading",
     "level": 1,
     "metadata": {},
     "source": [
      "Lists of means and standard deviations of different runs of the game with different player strategies."
     ]
    },
    {
     "cell_type": "markdown",
     "metadata": {},
     "source": [
      "Player who rolls one die before holidng"
     ]
    },
    {
     "cell_type": "code",
     "collapsed": false,
     "input": [
      "#one_die_results_hundred_thousand_games = many_games(pig_game_one_die, 10000)\n",
      "#one_die_results_hundred_thousand_list = many_games_list(pig_game_one_die, 10000)"
     ],
     "language": "python",
     "metadata": {},
     "outputs": [],
     "prompt_number": 25
    },
    {
     "cell_type": "code",
     "collapsed": false,
     "input": [
      "#one_die_results_many_trials = many_trials_of_games(pig_game_one_die, 10000, 100)\n",
      "#one_die_results_many_trials_list = many_trials_of_games_list(pig_game_one_die, 10000, 100)"
     ],
     "language": "python",
     "metadata": {},
     "outputs": [],
     "prompt_number": 26
    },
    {
     "cell_type": "code",
     "collapsed": false,
     "input": [
      "#one_die_results_many_trials_stdev = many_trials_of_games_list_stdev(pig_game_one_die, 10000, 100)"
     ],
     "language": "python",
     "metadata": {},
     "outputs": [],
     "prompt_number": 27
    },
    {
     "cell_type": "markdown",
     "metadata": {},
     "source": [
      "Player who rolls two dice before holding"
     ]
    },
    {
     "cell_type": "code",
     "collapsed": false,
     "input": [
      "#two_die_results_hundred_thousand_games = many_games(pig_game_two_die, 100000)\n",
      "#two_die_results_hundred_thousand_list = many_games_list(pig_game_two_die, 100000)"
     ],
     "language": "python",
     "metadata": {},
     "outputs": [],
     "prompt_number": 28
    },
    {
     "cell_type": "code",
     "collapsed": false,
     "input": [
      "#two_die_results_many_trials = many_trials_of_games(pig_game_two_die, 10000, 100)\n",
      "#two_die_results_many_trials_list = many_trials_of_games_list(pig_game_two_die, 10000, 100)"
     ],
     "language": "python",
     "metadata": {},
     "outputs": [],
     "prompt_number": 29
    },
    {
     "cell_type": "code",
     "collapsed": false,
     "input": [
      "#two_die_results_many_trials_stdev = many_trials_of_games_list_stdev(pig_game_two_die, 10000, 100)"
     ],
     "language": "python",
     "metadata": {},
     "outputs": [],
     "prompt_number": 30
    },
    {
     "cell_type": "markdown",
     "metadata": {},
     "source": [
      "Player who attempts to get at least six points each round"
     ]
    },
    {
     "cell_type": "code",
     "collapsed": false,
     "input": [
      "#six_value_results_hundred_thousand_games = many_games(pig_game_six_value, 100000)\n",
      "six_value_results_hundred_thousand_list = many_games_list(pig_game_six_value, 100000)"
     ],
     "language": "python",
     "metadata": {},
     "outputs": [],
     "prompt_number": 31
    },
    {
     "cell_type": "code",
     "collapsed": false,
     "input": [
      "#six_value_results_many_trials = many_trials_of_games(pig_game_six_value, 10000, 100)\n",
      "six_value_results_many_trials_list = many_trials_of_games_list(pig_game_six_value, 10000, 100)"
     ],
     "language": "python",
     "metadata": {},
     "outputs": [],
     "prompt_number": 32
    },
    {
     "cell_type": "code",
     "collapsed": false,
     "input": [
      "six_value_results_many_trials_stdev = many_trials_of_games_list_stdev(pig_game_six_value, 10000, 100)"
     ],
     "language": "python",
     "metadata": {},
     "outputs": [],
     "prompt_number": 33
    },
    {
     "cell_type": "markdown",
     "metadata": {},
     "source": [
      "Player who attempts to get at least fifteen points each round"
     ]
    },
    {
     "cell_type": "code",
     "collapsed": false,
     "input": [
      "#fifteen_value_results_hundred_thousand_games = many_games(pig_game_fifteen_value, 100000)\n",
      "fifteen_value_results_hundred_thousand_list = many_games_list(pig_game_fifteen_value, 100000)"
     ],
     "language": "python",
     "metadata": {},
     "outputs": [],
     "prompt_number": 34
    },
    {
     "cell_type": "code",
     "collapsed": false,
     "input": [
      "#fifteen_value_results_many_trials = many_trials_of_games(pig_game_fifteen_value, 10000, 100)\n",
      "fifteen_value_results_many_trials_list = many_trials_of_games_list(pig_game_fifteen_value, 10000, 100)"
     ],
     "language": "python",
     "metadata": {},
     "outputs": [],
     "prompt_number": 35
    },
    {
     "cell_type": "code",
     "collapsed": false,
     "input": [
      "fifteen_value_results_many_trials_stdev = many_trials_of_games_list_stdev(pig_game_fifteen_value, 10000, 100)"
     ],
     "language": "python",
     "metadata": {},
     "outputs": [],
     "prompt_number": 36
    },
    {
     "cell_type": "markdown",
     "metadata": {},
     "source": [
      "Player who attempts to get at least twenty points each round"
     ]
    },
    {
     "cell_type": "code",
     "collapsed": false,
     "input": [
      "#twenty_value_results_hundred_thousand_games = many_games(pig_game_twenty_value, 100000)\n",
      "twenty_value_results_hundred_thousand_list = many_games_list(pig_game_twenty_value, 100000)"
     ],
     "language": "python",
     "metadata": {},
     "outputs": [],
     "prompt_number": 37
    },
    {
     "cell_type": "code",
     "collapsed": false,
     "input": [
      "#twenty_value_results_many_trials = many_trials_of_games(pig_game_twenty_value, 10000, 100)\n",
      "twenty_value_results_many_trials_list = many_trials_of_games_list(pig_game_twenty_value, 10000, 100)"
     ],
     "language": "python",
     "metadata": {},
     "outputs": [],
     "prompt_number": 38
    },
    {
     "cell_type": "code",
     "collapsed": false,
     "input": [
      "twenty_value_results_many_trials_stdev = many_trials_of_games_list_stdev(pig_game_twenty_value, 10000, 100)"
     ],
     "language": "python",
     "metadata": {},
     "outputs": [],
     "prompt_number": 39
    },
    {
     "cell_type": "markdown",
     "metadata": {},
     "source": [
      "Player who attempts to get at least twenty-five points each round"
     ]
    },
    {
     "cell_type": "code",
     "collapsed": false,
     "input": [
      "#twenty_five_value_results_hundred_thousand_games = many_games(pig_game_twenty_five_value, 100000)\n",
      "twenty_five_value_results_hundred_thousand_list = many_games_list(pig_game_twenty_five_value, 100000)"
     ],
     "language": "python",
     "metadata": {},
     "outputs": [],
     "prompt_number": 40
    },
    {
     "cell_type": "code",
     "collapsed": false,
     "input": [
      "#twenty_five_value_results_many_trials = many_trials_of_games(pig_game_twenty_five_value, 10000, 100)\n",
      "twenty_five_value_results_many_trials_list = many_trials_of_games_list(pig_game_twenty_five_value, 10000, 100)"
     ],
     "language": "python",
     "metadata": {},
     "outputs": [],
     "prompt_number": 41
    },
    {
     "cell_type": "code",
     "collapsed": false,
     "input": [
      "twenty_five_value_results_many_trials_stdev = many_trials_of_games_list_stdev(pig_game_twenty_five_value, 10000, 100)"
     ],
     "language": "python",
     "metadata": {},
     "outputs": [],
     "prompt_number": 42
    },
    {
     "cell_type": "heading",
     "level": 1,
     "metadata": {},
     "source": [
      "Graphs of Players using value strategies"
     ]
    },
    {
     "cell_type": "heading",
     "level": 4,
     "metadata": {},
     "source": [
      "Box Plot of the different value strategies"
     ]
    },
    {
     "cell_type": "code",
     "collapsed": false,
     "input": [
      "value_six = six_value_results_hundred_thousand_list\n",
      "value_fifteen = fifteen_value_results_hundred_thousand_list\n",
      "value_twenty = twenty_value_results_hundred_thousand_list\n",
      "value_twenty_five = twenty_five_value_results_hundred_thousand_list\n",
      "sns.boxplot([value_six, value_fifteen, value_twenty, value_twenty_five ], color=\"muted\")\n",
      "ymin, ymax = plt.ylim()\n",
      "plt.title(\"Plots of game scores with four different player strategies\")\n",
      "plt.ylabel(\"Game Scores\")\n",
      "plt.xticks(range(1,5), [\"value_six\", \"value_fifteen\", \"value_twenty\", \"value_twenty_five\"])\n",
      "plt.show()"
     ],
     "language": "python",
     "metadata": {},
     "outputs": [
      {
       "metadata": {},
       "output_type": "display_data",
       "png": "[encoded data removed]",
       "text": [
        "<matplotlib.figure.Figure at 0x10d7a04a8>"
       ]
      }
     ],
     "prompt_number": 43
    },
    {
     "cell_type": "code",
     "collapsed": false,
     "input": [
      "value_six_trials = six_value_results_many_trials_list\n",
      "value_fifteen_trials = fifteen_value_results_many_trials_list\n",
      "value_twenty_trials = twenty_value_results_many_trials_list\n",
      "value_twenty_five_trials = twenty_five_value_results_many_trials_list\n",
      "sns.boxplot([value_six_trials, value_fifteen_trials, value_twenty_trials, value_twenty_five_trials], color=\"muted\")\n",
      "ymin, ymax = plt.ylim()\n",
      "plt.title(\"Plots of game scores with four different player strategies\")\n",
      "plt.ylabel(\"Game Scores\")\n",
      "plt.xticks(range(1,5), [\"value_six\", \"value_fifteen\", \"value_twenty\", \"value_twenty_five\"])\n",
      "plt.show()"
     ],
     "language": "python",
     "metadata": {},
     "outputs": [
      {
       "metadata": {},
       "output_type": "display_data",
       "png": "[encoded data removed]",
       "text": [
        "<matplotlib.figure.Figure at 0x10e327ef0>"
       ]
      }
     ],
     "prompt_number": 44
    },
    {
     "cell_type": "markdown",
     "metadata": {},
     "source": [
      "Each box plot in this plot was the results of 100,000 runs of the simulation. "
     ]
    },
    {
     "cell_type": "heading",
     "level": 1,
     "metadata": {},
     "source": [
      "Violin plots of different player strategy outcomes."
     ]
    },
    {
     "cell_type": "code",
     "collapsed": false,
     "input": [
      "value_six = six_value_results_hundred_thousand_list\n",
      "value_fifteen = fifteen_value_results_hundred_thousand_list\n",
      "value_twenty = twenty_value_results_hundred_thousand_list\n",
      "value_twenty_five = twenty_five_value_results_hundred_thousand_list\n",
      "sns.violinplot([value_six, value_fifteen, value_twenty, value_twenty_five ], color=\"muted\")\n",
      "ymin, ymax = plt.ylim()\n",
      "plt.title(\"Plots of game scores with four different player strategies\")\n",
      "plt.ylabel(\"Game Scores\")\n",
      "plt.xticks(range(1,5), [\"Roll for six\", \"Roll for fifteen\", \"Roll for twenty\", \"Roll for twenty five\"])\n",
      "plt.show()"
     ],
     "language": "python",
     "metadata": {},
     "outputs": [
      {
       "metadata": {},
       "output_type": "display_data",
       "png": "[encoded data removed]",
       "text": [
        "<matplotlib.figure.Figure at 0x10d8d37b8>"
       ]
      }
     ],
     "prompt_number": 45
    },
    {
     "cell_type": "markdown",
     "metadata": {},
     "source": [
      "I'm not sure how to understand what is going on here."
     ]
    },
    {
     "cell_type": "code",
     "collapsed": false,
     "input": [
      "value_six_trials = six_value_results_many_trials_list\n",
      "value_fifteen_trials = fifteen_value_results_many_trials_list\n",
      "value_twenty_trials = twenty_value_results_many_trials_list\n",
      "value_twenty_five_trials = twenty_five_value_results_many_trials_list\n",
      "sns.violinplot([value_six_trials, value_fifteen_trials, value_twenty_trials, value_twenty_five_trials], color=\"muted\")\n",
      "ymin, ymax = plt.ylim()\n",
      "plt.title(\"Plots of game scores with four different player strategies\")\n",
      "plt.ylabel(\"Game Scores\")\n",
      "plt.xticks(range(1,5), [\"Roll for six\", \"Roll for fifteen\", \"Roll for twenty\", \"Roll for twenty five\"])\n",
      "plt.show()"
     ],
     "language": "python",
     "metadata": {},
     "outputs": [
      {
       "metadata": {},
       "output_type": "display_data",
       "png": "[encoded data removed]",
       "text": [
        "<matplotlib.figure.Figure at 0x10e631080>"
       ]
      }
     ],
     "prompt_number": 46
    },
    {
     "cell_type": "markdown",
     "metadata": {},
     "source": [
      "Each box plot in this plot was the result of 10,000 trials with 100 games each."
     ]
    },
    {
     "cell_type": "heading",
     "level": 1,
     "metadata": {},
     "source": [
      "Histograms of each strategy with 10,000 trials of 100 games each."
     ]
    },
    {
     "cell_type": "code",
     "collapsed": false,
     "input": [
      "six_mean = st.mean(six_value_results_many_trials_list)\n",
      "six_stdev = st.pstdev(six_value_results_many_trials_list)\n",
      "sns.distplot(six_value_results_many_trials_list, rug=False, kde=False)\n",
      "plt.axvline(x=six_mean, color = 'blue')\n",
      "plt.axvline(x=six_mean + six_stdev, color = 'blue', linestyle='dashed')\n",
      "plt.axvline(x=six_mean + six_stdev * 2, color = 'blue', linestyle='dashed')\n",
      "plt.axvline(x=six_mean - six_stdev, color = 'blue', linestyle='dashed')\n",
      "plt.axvline(x=six_mean - six_stdev * 2, color = 'blue', linestyle='dashed')\n",
      "plt.xlabel(\"Score of games\")\n",
      "plt.ylabel(\"Number of games\")\n",
      "plt.title(\"Distribution of the mean of 100 games from 10,000 trials\")\n",
      "plt.show()"
     ],
     "language": "python",
     "metadata": {},
     "outputs": [
      {
       "metadata": {},
       "output_type": "display_data",
       "png": "[encoded data removed]",
       "text": [
        "<matplotlib.figure.Figure at 0x10ea82ef0>"
       ]
      }
     ],
     "prompt_number": 55
    },
    {
     "cell_type": "markdown",
     "metadata": {},
     "source": [
      "This player would hold after getting a turn value of at least 6."
     ]
    },
    {
     "cell_type": "code",
     "collapsed": false,
     "input": [
      "fifteen_mean = st.mean(fifteen_value_results_many_trials_list)\n",
      "fifteen_stdev = st.pstdev(fifteen_value_results_many_trials_list)\n",
      "sns.distplot(fifteen_value_results_many_trials_list, rug=False, kde=False)\n",
      "plt.axvline(x=fifteen_mean, color = 'blue')\n",
      "plt.axvline(x=fifteen_mean + fifteen_stdev, color = 'blue', linestyle='dashed')\n",
      "plt.axvline(x=fifteen_mean + fifteen_stdev * 2, color = 'blue', linestyle='dashed')\n",
      "plt.axvline(x=fifteen_mean - fifteen_stdev, color = 'blue', linestyle='dashed')\n",
      "plt.axvline(x=fifteen_mean - fifteen_stdev * 2, color = 'blue', linestyle='dashed')\n",
      "plt.xlabel(\"Score of games\")\n",
      "plt.ylabel(\"Number of games\")\n",
      "plt.title(\"Distribution of the mean of 100 games from 10,000 trials\")\n",
      "plt.show()"
     ],
     "language": "python",
     "metadata": {},
     "outputs": [
      {
       "metadata": {},
       "output_type": "display_data",
       "png": "[encoded data removed]",
       "text": [
        "<matplotlib.figure.Figure at 0x10e6c9c18>"
       ]
      }
     ],
     "prompt_number": 54
    },
    {
     "cell_type": "code",
     "collapsed": false,
     "input": [
      "twenty_mean = st.mean(twenty_value_results_many_trials_list)\n",
      "twenty_stdev = st.pstdev(twenty_value_results_many_trials_list)\n",
      "sns.distplot(twenty_value_results_many_trials_list, rug=False, kde=False)\n",
      "plt.axvline(x=twenty_mean, color = 'blue')\n",
      "plt.axvline(x=twenty_mean + twenty_stdev, color = 'blue', linestyle='dashed')\n",
      "plt.axvline(x=twenty_mean + twenty_stdev * 2, color = 'blue', linestyle='dashed')\n",
      "plt.axvline(x=twenty_mean - twenty_stdev, color = 'blue', linestyle='dashed')\n",
      "plt.axvline(x=twenty_mean - twenty_stdev * 2, color = 'blue', linestyle='dashed')\n",
      "plt.xlabel(\"Score of games\")\n",
      "plt.ylabel(\"Number of games\")\n",
      "plt.title(\"Distribution of the mean of 100 games from 10,000 trials\")\n",
      "plt.show()"
     ],
     "language": "python",
     "metadata": {},
     "outputs": [
      {
       "metadata": {},
       "output_type": "display_data",
       "png": "[encoded data removed]",
       "text": [
        "<matplotlib.figure.Figure at 0x10e60d940>"
       ]
      }
     ],
     "prompt_number": 53
    },
    {
     "cell_type": "code",
     "collapsed": false,
     "input": [
      "twenty_five_mean = st.mean(twenty_five_value_results_many_trials_list)\n",
      "twenty_five_stdev = st.pstdev(twenty_five_value_results_many_trials_list)\n",
      "sns.distplot(twenty_five_value_results_many_trials_list, rug=False, kde=False)\n",
      "plt.axvline(x=twenty_five_mean, color = 'blue')\n",
      "plt.axvline(x=twenty_five_mean + twenty_stdev, color = 'blue', linestyle='dashed')\n",
      "plt.axvline(x=twenty_five_mean + twenty_stdev * 2, color = 'blue', linestyle='dashed')\n",
      "plt.axvline(x=twenty_five_mean - twenty_stdev, color = 'blue', linestyle='dashed')\n",
      "plt.axvline(x=twenty_five_mean - twenty_stdev * 2, color = 'blue', linestyle='dashed')\n",
      "plt.xlabel(\"Score of games\")\n",
      "plt.ylabel(\"Number of games\")\n",
      "plt.title(\"Distribution of the mean of 100 games from 10,000 trials\")\n",
      "plt.show()"
     ],
     "language": "python",
     "metadata": {},
     "outputs": [
      {
       "metadata": {},
       "output_type": "display_data",
       "png": "[encoded data removed]",
       "text": [
        "<matplotlib.figure.Figure at 0x10e7bca90>"
       ]
      }
     ],
     "prompt_number": 52
    },
    {
     "cell_type": "markdown",
     "metadata": {},
     "source": [
      "From these trials the optimal strategy has been to be trying to roll at least 20 points each turn before holding. This is only slighty better than trying to roll 15 and 25, but with 10,000 trials of 100 games each, I bealieve this is significant enough to call it the \"best\" or at least very good way to go about playing Pig."
     ]
    },
    {
     "cell_type": "code",
     "collapsed": false,
     "input": [],
     "language": "python",
     "metadata": {},
     "outputs": [],
     "prompt_number": 50
    }
   ],
   "metadata": {}
  }
 ]
}